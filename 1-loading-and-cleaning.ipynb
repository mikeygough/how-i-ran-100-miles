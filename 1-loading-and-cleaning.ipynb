{
 "cells": [
  {
   "cell_type": "markdown",
   "id": "d69d526f-e390-4f81-ab44-42a7db40d8de",
   "metadata": {},
   "source": [
    "## 1. Loading & Cleaning\n",
    "\n",
    "#### Read in the raw Garmin data. Clean and format. Export to a new cleaned .csv."
   ]
  },
  {
   "cell_type": "code",
   "execution_count": 1,
   "id": "25ae2d5e-1ac0-4cdf-9589-0873ab0abe2d",
   "metadata": {},
   "outputs": [],
   "source": [
    "# imports\n",
    "from datetime import datetime\n",
    "import pandas as pd\n",
    "import numpy as np\n",
    "import matplotlib.pyplot as plt\n",
    "import matplotlib.dates as mdates\n",
    "from matplotlib.ticker import AutoMinorLocator\n",
    "from matplotlib.ticker import FormatStrFormatter\n",
    "from matplotlib.ticker import PercentFormatter\n",
    "%matplotlib inline\n",
    "\n",
    "# display settings\n",
    "pd.set_option('display.max_rows', 1000)\n",
    "pd.set_option('display.max_columns', 100)\n",
    "pd.set_option('max_colwidth', 500)"
   ]
  },
  {
   "cell_type": "markdown",
   "id": "fb985e40-92ad-498b-bcb7-9da7b855181e",
   "metadata": {},
   "source": [
    "---"
   ]
  },
  {
   "cell_type": "markdown",
   "id": "6e15d3ea-8d58-4da8-ab63-e1d7d8ece131",
   "metadata": {},
   "source": [
    "### loading"
   ]
  },
  {
   "cell_type": "code",
   "execution_count": 2,
   "id": "5f584d14-2040-4bfa-8728-f0cc866f33bd",
   "metadata": {},
   "outputs": [],
   "source": [
    "# read the data\n",
    "# index_col -> set index to 'Date'\n",
    "# thousands -> recognize '1,000' as an int64 instead of a string\n",
    "# na_values -> replace any '--' values with NA\n",
    "# usecols -> only use relevant columns\n",
    "\n",
    "dateparse = lambda x: datetime.strptime(x, '%Y-%m-%d')\n",
    "\n",
    "df = pd.read_csv('data/data.csv', parse_dates=['Date'], infer_datetime_format=True,\n",
    "                index_col='Date', thousands=',', na_values='--',\n",
    "                usecols=['Date', 'Activity Type', 'Distance', 'Calories', 'Time',\n",
    "                            'Avg HR', 'Max HR', 'Aerobic TE', 'Avg Run Cadence', 'Max Run Cadence',\n",
    "                            'Avg Pace', 'Best Pace', 'Total Ascent', 'Total Descent',\n",
    "                            'Avg Stride Length', 'Min Elevation', 'Max Elevation'])\n",
    "\n",
    "# hide HH:MM:SS\n",
    "df.index = df.index.normalize()"
   ]
  },
  {
   "cell_type": "markdown",
   "id": "bed68f46-f4c1-418e-8fdf-ef5cb3078135",
   "metadata": {},
   "source": [
    "only loading in certain columns, omitting the following:\n",
    "\n",
    "* Favorite\n",
    "* Title\n",
    "* Avg Vertical Ratio\n",
    "* Avg Vertical Oscillation\n",
    "* Avg Ground Contact Time\n",
    "* Avg Run Cadence.1\n",
    "* Max Run Cadence.1\n",
    "* Training Stress Score®\n",
    "* Avg Power\n",
    "* Max Power\n",
    "* Grit\n",
    "* Flow\n",
    "* Avg. Swolf\n",
    "* Avg Stroke Rate\n",
    "* Total Reps\n",
    "* Dive Time\n",
    "* Min Temp\n",
    "* Surface Interval\n",
    "* Decompression\n",
    "* Max Temp\n",
    "* Avg Pace t\n",
    "* Best Lap Time\n",
    "* Number of Laps\n",
    "* Moving Time\n",
    "* Elapsed Time\n"
   ]
  },
  {
   "cell_type": "markdown",
   "id": "f6ca5175-e2d3-4017-9ee3-d3d69f1a2a5b",
   "metadata": {},
   "source": [
    "---"
   ]
  },
  {
   "cell_type": "markdown",
   "id": "04af694c-8466-4d8e-8667-6dcfee488950",
   "metadata": {},
   "source": [
    "### exploring"
   ]
  },
  {
   "cell_type": "code",
   "execution_count": 3,
   "id": "d614135c-a40d-4b11-ab14-8ca0a76572d3",
   "metadata": {},
   "outputs": [
    {
     "data": {
      "text/html": [
       "<div>\n",
       "<style scoped>\n",
       "    .dataframe tbody tr th:only-of-type {\n",
       "        vertical-align: middle;\n",
       "    }\n",
       "\n",
       "    .dataframe tbody tr th {\n",
       "        vertical-align: top;\n",
       "    }\n",
       "\n",
       "    .dataframe thead th {\n",
       "        text-align: right;\n",
       "    }\n",
       "</style>\n",
       "<table border=\"1\" class=\"dataframe\">\n",
       "  <thead>\n",
       "    <tr style=\"text-align: right;\">\n",
       "      <th></th>\n",
       "      <th>Activity Type</th>\n",
       "      <th>Distance</th>\n",
       "      <th>Calories</th>\n",
       "      <th>Time</th>\n",
       "      <th>Avg HR</th>\n",
       "      <th>Max HR</th>\n",
       "      <th>Aerobic TE</th>\n",
       "      <th>Avg Run Cadence</th>\n",
       "      <th>Max Run Cadence</th>\n",
       "      <th>Avg Pace</th>\n",
       "      <th>Best Pace</th>\n",
       "      <th>Total Ascent</th>\n",
       "      <th>Total Descent</th>\n",
       "      <th>Avg Stride Length</th>\n",
       "      <th>Min Elevation</th>\n",
       "      <th>Max Elevation</th>\n",
       "    </tr>\n",
       "    <tr>\n",
       "      <th>Date</th>\n",
       "      <th></th>\n",
       "      <th></th>\n",
       "      <th></th>\n",
       "      <th></th>\n",
       "      <th></th>\n",
       "      <th></th>\n",
       "      <th></th>\n",
       "      <th></th>\n",
       "      <th></th>\n",
       "      <th></th>\n",
       "      <th></th>\n",
       "      <th></th>\n",
       "      <th></th>\n",
       "      <th></th>\n",
       "      <th></th>\n",
       "      <th></th>\n",
       "    </tr>\n",
       "  </thead>\n",
       "  <tbody>\n",
       "    <tr>\n",
       "      <th>2022-10-27</th>\n",
       "      <td>Running</td>\n",
       "      <td>6.01</td>\n",
       "      <td>596</td>\n",
       "      <td>00:49:46</td>\n",
       "      <td>164</td>\n",
       "      <td>185</td>\n",
       "      <td>4.2</td>\n",
       "      <td>167</td>\n",
       "      <td>178</td>\n",
       "      <td>8:17</td>\n",
       "      <td>7:34</td>\n",
       "      <td>7.0</td>\n",
       "      <td>10.0</td>\n",
       "      <td>1.17</td>\n",
       "      <td>594.0</td>\n",
       "      <td>604.0</td>\n",
       "    </tr>\n",
       "    <tr>\n",
       "      <th>2022-10-26</th>\n",
       "      <td>Running</td>\n",
       "      <td>4.01</td>\n",
       "      <td>362</td>\n",
       "      <td>00:34:26</td>\n",
       "      <td>150</td>\n",
       "      <td>161</td>\n",
       "      <td>3.1</td>\n",
       "      <td>165</td>\n",
       "      <td>175</td>\n",
       "      <td>8:34</td>\n",
       "      <td>7:02</td>\n",
       "      <td>3.0</td>\n",
       "      <td>7.0</td>\n",
       "      <td>1.13</td>\n",
       "      <td>594.0</td>\n",
       "      <td>603.0</td>\n",
       "    </tr>\n",
       "    <tr>\n",
       "      <th>2022-10-23</th>\n",
       "      <td>Running</td>\n",
       "      <td>6.38</td>\n",
       "      <td>650</td>\n",
       "      <td>00:54:40</td>\n",
       "      <td>167</td>\n",
       "      <td>176</td>\n",
       "      <td>4.8</td>\n",
       "      <td>165</td>\n",
       "      <td>174</td>\n",
       "      <td>8:34</td>\n",
       "      <td>7:44</td>\n",
       "      <td>7.0</td>\n",
       "      <td>3.0</td>\n",
       "      <td>1.14</td>\n",
       "      <td>594.0</td>\n",
       "      <td>604.0</td>\n",
       "    </tr>\n",
       "  </tbody>\n",
       "</table>\n",
       "</div>"
      ],
      "text/plain": [
       "           Activity Type  Distance  Calories      Time  Avg HR  Max HR  \\\n",
       "Date                                                                     \n",
       "2022-10-27       Running      6.01       596  00:49:46     164     185   \n",
       "2022-10-26       Running      4.01       362  00:34:26     150     161   \n",
       "2022-10-23       Running      6.38       650  00:54:40     167     176   \n",
       "\n",
       "            Aerobic TE  Avg Run Cadence  Max Run Cadence Avg Pace Best Pace  \\\n",
       "Date                                                                          \n",
       "2022-10-27         4.2              167              178     8:17      7:34   \n",
       "2022-10-26         3.1              165              175     8:34      7:02   \n",
       "2022-10-23         4.8              165              174     8:34      7:44   \n",
       "\n",
       "            Total Ascent  Total Descent  Avg Stride Length  Min Elevation  \\\n",
       "Date                                                                        \n",
       "2022-10-27           7.0           10.0               1.17          594.0   \n",
       "2022-10-26           3.0            7.0               1.13          594.0   \n",
       "2022-10-23           7.0            3.0               1.14          594.0   \n",
       "\n",
       "            Max Elevation  \n",
       "Date                       \n",
       "2022-10-27          604.0  \n",
       "2022-10-26          603.0  \n",
       "2022-10-23          604.0  "
      ]
     },
     "execution_count": 3,
     "metadata": {},
     "output_type": "execute_result"
    }
   ],
   "source": [
    "# take a peek!\n",
    "df.head(3)"
   ]
  },
  {
   "cell_type": "code",
   "execution_count": 4,
   "id": "5c63ea47-302f-4398-9a3d-0a4f1c6b46ab",
   "metadata": {},
   "outputs": [
    {
     "name": "stdout",
     "output_type": "stream",
     "text": [
      "Since first getting this watch I completed 789 activities.\n",
      "But my watch allowed for multiple activity types, including ['Running' 'Other' 'Cycling' 'Treadmill Running'].\n",
      "26 of those activities weren't runs.\n",
      "So let's discard those values...\n"
     ]
    }
   ],
   "source": [
    "print(f\"Since first getting this watch I completed {df.shape[0]} activities.\")\n",
    "print(f\"But my watch allowed for multiple activity types, including {df['Activity Type'].unique()}.\")\n",
    "print(f\"{df[(df['Activity Type'] == 'Cycling') | (df['Activity Type'] == 'Other')].shape[0]} of those activities weren't runs.\")\n",
    "print(\"So let's discard those values...\")"
   ]
  },
  {
   "cell_type": "code",
   "execution_count": 5,
   "id": "f5da41d3-005c-4166-b20b-be9144647eb2",
   "metadata": {},
   "outputs": [],
   "source": [
    "# discard activities that weren't running\n",
    "dropIndex = df[(df['Activity Type'] == 'Cycling') | (df['Activity Type'] == 'Other')].index\n",
    "df.drop(dropIndex, inplace=True)"
   ]
  },
  {
   "cell_type": "markdown",
   "id": "c7a869bb-6cbc-46c0-8a53-28e881742560",
   "metadata": {},
   "source": [
    "i also only want the data leading up to my 100 miler, which occurred february 5th, 2022. my first recorded run with this watch was april 9th, 2018. so for simplicity, i'll select the data from april 2018 to march 2022.\n",
    "\n",
    "#### _it took almost four years of training for me to go from someone who __doesn't__ run to completing a 100 mile marathon... big things take time._"
   ]
  },
  {
   "cell_type": "code",
   "execution_count": 6,
   "id": "63d5df20-10a6-4030-9e7b-21f1b176db9e",
   "metadata": {},
   "outputs": [],
   "source": [
    "df.sort_values('Date', inplace=True)\n",
    "df = df['2018-04-01':'2022-03-01'].copy(deep=True)"
   ]
  },
  {
   "cell_type": "markdown",
   "id": "0cbef25e-0d54-41f6-9662-ff50aa78da4f",
   "metadata": {},
   "source": [
    "---"
   ]
  },
  {
   "cell_type": "markdown",
   "id": "7980c3db-0293-4e5b-80cb-9824f312be75",
   "metadata": {},
   "source": [
    "### nerding"
   ]
  },
  {
   "cell_type": "code",
   "execution_count": 7,
   "id": "a0eb1269-cf46-4530-83be-6c0cce51db0b",
   "metadata": {},
   "outputs": [
    {
     "name": "stdout",
     "output_type": "stream",
     "text": [
      "It took me 1,398 days to go from zero to running a hundred mile marathon.\n",
      "And I ran 5551.18 miles in training.\n",
      "Along the way burning 556,701 calories.\n"
     ]
    }
   ],
   "source": [
    "print(f\"It took me {(df.index.max() - df.index.min()).days:,} days to go from zero to running a hundred mile marathon.\")\n",
    "print(f\"And I ran {df['Distance'].sum().round(2)} miles in training.\")\n",
    "print(f\"Along the way burning {df['Calories'].sum():,} calories.\")"
   ]
  },
  {
   "cell_type": "markdown",
   "id": "9883b694-c629-4d7f-a011-13da0fadc00f",
   "metadata": {},
   "source": [
    "currently the timestamp information is in an unusable format. suss the timestamp stuff (Time, Avg Pace, Best Pace) into a more practicle type format"
   ]
  },
  {
   "cell_type": "markdown",
   "id": "1567364e-e5dd-4dd2-8d63-0ddc7277d537",
   "metadata": {},
   "source": [
    "#### convert HH:MM:SS Time into total seconds"
   ]
  },
  {
   "cell_type": "code",
   "execution_count": 8,
   "id": "b0e45d03-5cd9-4542-8050-c1a2ce440937",
   "metadata": {},
   "outputs": [],
   "source": [
    "# note that now these are just the total number of seconds...\n",
    "df['Time_s'] = pd.to_timedelta(df['Time']).dt.total_seconds()"
   ]
  },
  {
   "cell_type": "code",
   "execution_count": 9,
   "id": "4f422dd8-a623-4a7c-ae26-c602ffdba44d",
   "metadata": {},
   "outputs": [
    {
     "name": "stdout",
     "output_type": "stream",
     "text": [
      "I completed 3,169 hours of running to finish my hundred miler.\n"
     ]
    }
   ],
   "source": [
    "print(f\"I completed {int(df['Time_s'].sum() % 3600):,} hours of running to finish my hundred miler.\")"
   ]
  },
  {
   "cell_type": "markdown",
   "id": "9c2ea395-b262-4be0-beba-b9fc8539481f",
   "metadata": {},
   "source": [
    "#### convert MM:SS Avg Pace and Best Pace into total seconds"
   ]
  },
  {
   "cell_type": "code",
   "execution_count": 10,
   "id": "4f9a65d8-fb8b-4115-a726-fe83689d9c20",
   "metadata": {},
   "outputs": [],
   "source": [
    "df['Avg Pace_s'] = pd.to_timedelta('00:' + df['Avg Pace']).dt.total_seconds()\n",
    "df['Best Pace_s'] = pd.to_timedelta('00:' + df['Best Pace']).dt.total_seconds()"
   ]
  },
  {
   "cell_type": "markdown",
   "id": "3b9fcbbf-80ec-48be-af67-b96b51147735",
   "metadata": {},
   "source": [
    "as an aside, it's very common for pacing information to get messed up because of a weak gps signal. for example, running in chicago the signal can be redirected by tall buildings resulting in ultra fast (read, _incorrect_) splits."
   ]
  },
  {
   "cell_type": "markdown",
   "id": "915c4764-5042-40f4-b7ae-bc315c2ecee4",
   "metadata": {},
   "source": [
    "#### on some days i completed more than one activity. i'd like to have just one row per day."
   ]
  },
  {
   "cell_type": "code",
   "execution_count": 11,
   "id": "a71efd44-6d26-4ebf-9c69-87019da4c538",
   "metadata": {},
   "outputs": [
    {
     "data": {
      "text/html": [
       "<div>\n",
       "<style scoped>\n",
       "    .dataframe tbody tr th:only-of-type {\n",
       "        vertical-align: middle;\n",
       "    }\n",
       "\n",
       "    .dataframe tbody tr th {\n",
       "        vertical-align: top;\n",
       "    }\n",
       "\n",
       "    .dataframe thead th {\n",
       "        text-align: right;\n",
       "    }\n",
       "</style>\n",
       "<table border=\"1\" class=\"dataframe\">\n",
       "  <thead>\n",
       "    <tr style=\"text-align: right;\">\n",
       "      <th></th>\n",
       "      <th>Activity Type</th>\n",
       "      <th>Distance</th>\n",
       "      <th>Calories</th>\n",
       "      <th>Time</th>\n",
       "      <th>Avg HR</th>\n",
       "      <th>Max HR</th>\n",
       "      <th>Aerobic TE</th>\n",
       "      <th>Avg Run Cadence</th>\n",
       "      <th>Max Run Cadence</th>\n",
       "      <th>Avg Pace</th>\n",
       "      <th>Best Pace</th>\n",
       "      <th>Total Ascent</th>\n",
       "      <th>Total Descent</th>\n",
       "      <th>Avg Stride Length</th>\n",
       "      <th>Min Elevation</th>\n",
       "      <th>Max Elevation</th>\n",
       "      <th>Time_s</th>\n",
       "      <th>Avg Pace_s</th>\n",
       "      <th>Best Pace_s</th>\n",
       "    </tr>\n",
       "    <tr>\n",
       "      <th>Date</th>\n",
       "      <th></th>\n",
       "      <th></th>\n",
       "      <th></th>\n",
       "      <th></th>\n",
       "      <th></th>\n",
       "      <th></th>\n",
       "      <th></th>\n",
       "      <th></th>\n",
       "      <th></th>\n",
       "      <th></th>\n",
       "      <th></th>\n",
       "      <th></th>\n",
       "      <th></th>\n",
       "      <th></th>\n",
       "      <th></th>\n",
       "      <th></th>\n",
       "      <th></th>\n",
       "      <th></th>\n",
       "      <th></th>\n",
       "    </tr>\n",
       "  </thead>\n",
       "  <tbody>\n",
       "    <tr>\n",
       "      <th>2018-04-14</th>\n",
       "      <td>Running</td>\n",
       "      <td>4.72</td>\n",
       "      <td>566</td>\n",
       "      <td>00:40:24</td>\n",
       "      <td>174</td>\n",
       "      <td>185</td>\n",
       "      <td>5.0</td>\n",
       "      <td>168</td>\n",
       "      <td>179</td>\n",
       "      <td>8:34</td>\n",
       "      <td>7:39</td>\n",
       "      <td>133.0</td>\n",
       "      <td>103.0</td>\n",
       "      <td>1.12</td>\n",
       "      <td>NaN</td>\n",
       "      <td>79.0</td>\n",
       "      <td>2424.0</td>\n",
       "      <td>514.0</td>\n",
       "      <td>459.0</td>\n",
       "    </tr>\n",
       "    <tr>\n",
       "      <th>2018-04-14</th>\n",
       "      <td>Running</td>\n",
       "      <td>3.81</td>\n",
       "      <td>451</td>\n",
       "      <td>00:32:50</td>\n",
       "      <td>176</td>\n",
       "      <td>184</td>\n",
       "      <td>4.8</td>\n",
       "      <td>161</td>\n",
       "      <td>228</td>\n",
       "      <td>8:37</td>\n",
       "      <td>7:41</td>\n",
       "      <td>95.0</td>\n",
       "      <td>99.0</td>\n",
       "      <td>1.16</td>\n",
       "      <td>NaN</td>\n",
       "      <td>79.0</td>\n",
       "      <td>1970.0</td>\n",
       "      <td>517.0</td>\n",
       "      <td>461.0</td>\n",
       "    </tr>\n",
       "  </tbody>\n",
       "</table>\n",
       "</div>"
      ],
      "text/plain": [
       "           Activity Type  Distance  Calories      Time  Avg HR  Max HR  \\\n",
       "Date                                                                     \n",
       "2018-04-14       Running      4.72       566  00:40:24     174     185   \n",
       "2018-04-14       Running      3.81       451  00:32:50     176     184   \n",
       "\n",
       "            Aerobic TE  Avg Run Cadence  Max Run Cadence Avg Pace Best Pace  \\\n",
       "Date                                                                          \n",
       "2018-04-14         5.0              168              179     8:34      7:39   \n",
       "2018-04-14         4.8              161              228     8:37      7:41   \n",
       "\n",
       "            Total Ascent  Total Descent  Avg Stride Length  Min Elevation  \\\n",
       "Date                                                                        \n",
       "2018-04-14         133.0          103.0               1.12            NaN   \n",
       "2018-04-14          95.0           99.0               1.16            NaN   \n",
       "\n",
       "            Max Elevation  Time_s  Avg Pace_s  Best Pace_s  \n",
       "Date                                                        \n",
       "2018-04-14           79.0  2424.0       514.0        459.0  \n",
       "2018-04-14           79.0  1970.0       517.0        461.0  "
      ]
     },
     "execution_count": 11,
     "metadata": {},
     "output_type": "execute_result"
    }
   ],
   "source": [
    "df.loc['2018-04-14']"
   ]
  },
  {
   "cell_type": "markdown",
   "id": "80136e74-1020-416c-a036-0e7e299f1f62",
   "metadata": {},
   "source": [
    "if i groupby df.index.date and sum(), this can create problems since not all columns are integers. for example, summing the Avg HR from the above data doesn't make sense and could cause issues in later analysis.\n",
    "\n",
    "the columns which are safe to groupby and sum are ['Distance', 'Calories', 'Total Ascent', 'Total 'Descent', 'Time_s'] so i'll make a new dataframe with just these called numeric_df"
   ]
  },
  {
   "cell_type": "code",
   "execution_count": 12,
   "id": "54c2cc7a-3ddb-4193-a0a3-070c3797aa39",
   "metadata": {},
   "outputs": [],
   "source": [
    "# using .transform() will preserve the index\n",
    "numeric_df = df[['Distance', 'Calories', 'Total Ascent', 'Total Descent', 'Time_s']].groupby(by=df.index.date).transform('sum').copy(deep=True)"
   ]
  },
  {
   "cell_type": "code",
   "execution_count": 13,
   "id": "5d97c3b0-7aec-48b3-821b-ecfe6e62d20a",
   "metadata": {},
   "outputs": [
    {
     "data": {
      "text/html": [
       "<div>\n",
       "<style scoped>\n",
       "    .dataframe tbody tr th:only-of-type {\n",
       "        vertical-align: middle;\n",
       "    }\n",
       "\n",
       "    .dataframe tbody tr th {\n",
       "        vertical-align: top;\n",
       "    }\n",
       "\n",
       "    .dataframe thead th {\n",
       "        text-align: right;\n",
       "    }\n",
       "</style>\n",
       "<table border=\"1\" class=\"dataframe\">\n",
       "  <thead>\n",
       "    <tr style=\"text-align: right;\">\n",
       "      <th></th>\n",
       "      <th>Distance</th>\n",
       "      <th>Calories</th>\n",
       "      <th>Total Ascent</th>\n",
       "      <th>Total Descent</th>\n",
       "      <th>Time_s</th>\n",
       "    </tr>\n",
       "    <tr>\n",
       "      <th>Date</th>\n",
       "      <th></th>\n",
       "      <th></th>\n",
       "      <th></th>\n",
       "      <th></th>\n",
       "      <th></th>\n",
       "    </tr>\n",
       "  </thead>\n",
       "  <tbody>\n",
       "    <tr>\n",
       "      <th>2018-04-09</th>\n",
       "      <td>8.04</td>\n",
       "      <td>1088</td>\n",
       "      <td>203.0</td>\n",
       "      <td>205.0</td>\n",
       "      <td>4067.0</td>\n",
       "    </tr>\n",
       "    <tr>\n",
       "      <th>2018-04-11</th>\n",
       "      <td>5.06</td>\n",
       "      <td>640</td>\n",
       "      <td>373.0</td>\n",
       "      <td>381.0</td>\n",
       "      <td>2725.0</td>\n",
       "    </tr>\n",
       "    <tr>\n",
       "      <th>2018-04-12</th>\n",
       "      <td>5.98</td>\n",
       "      <td>704</td>\n",
       "      <td>567.0</td>\n",
       "      <td>557.0</td>\n",
       "      <td>2949.0</td>\n",
       "    </tr>\n",
       "  </tbody>\n",
       "</table>\n",
       "</div>"
      ],
      "text/plain": [
       "            Distance  Calories  Total Ascent  Total Descent  Time_s\n",
       "Date                                                               \n",
       "2018-04-09      8.04      1088         203.0          205.0  4067.0\n",
       "2018-04-11      5.06       640         373.0          381.0  2725.0\n",
       "2018-04-12      5.98       704         567.0          557.0  2949.0"
      ]
     },
     "execution_count": 13,
     "metadata": {},
     "output_type": "execute_result"
    }
   ],
   "source": [
    "numeric_df.head(3)"
   ]
  },
  {
   "cell_type": "markdown",
   "id": "b2f7cf89-88f2-427b-8319-8ae4b3f2867c",
   "metadata": {},
   "source": [
    "and i'll create another dataframe with the other values called str_df."
   ]
  },
  {
   "cell_type": "code",
   "execution_count": 14,
   "id": "db047354-a5f1-42b3-b491-bc14ed0dabe1",
   "metadata": {},
   "outputs": [],
   "source": [
    "str_df = df.drop(columns=['Distance', 'Calories', 'Total Ascent', 'Total Descent', 'Time', 'Time_s']).copy(deep=True)"
   ]
  },
  {
   "cell_type": "code",
   "execution_count": 15,
   "id": "1aaae87a-4d39-438c-8f82-e4a5f623f9b8",
   "metadata": {},
   "outputs": [
    {
     "data": {
      "text/html": [
       "<div>\n",
       "<style scoped>\n",
       "    .dataframe tbody tr th:only-of-type {\n",
       "        vertical-align: middle;\n",
       "    }\n",
       "\n",
       "    .dataframe tbody tr th {\n",
       "        vertical-align: top;\n",
       "    }\n",
       "\n",
       "    .dataframe thead th {\n",
       "        text-align: right;\n",
       "    }\n",
       "</style>\n",
       "<table border=\"1\" class=\"dataframe\">\n",
       "  <thead>\n",
       "    <tr style=\"text-align: right;\">\n",
       "      <th></th>\n",
       "      <th>Activity Type</th>\n",
       "      <th>Avg HR</th>\n",
       "      <th>Max HR</th>\n",
       "      <th>Aerobic TE</th>\n",
       "      <th>Avg Run Cadence</th>\n",
       "      <th>Max Run Cadence</th>\n",
       "      <th>Avg Pace</th>\n",
       "      <th>Best Pace</th>\n",
       "      <th>Avg Stride Length</th>\n",
       "      <th>Min Elevation</th>\n",
       "      <th>Max Elevation</th>\n",
       "      <th>Avg Pace_s</th>\n",
       "      <th>Best Pace_s</th>\n",
       "    </tr>\n",
       "    <tr>\n",
       "      <th>Date</th>\n",
       "      <th></th>\n",
       "      <th></th>\n",
       "      <th></th>\n",
       "      <th></th>\n",
       "      <th></th>\n",
       "      <th></th>\n",
       "      <th></th>\n",
       "      <th></th>\n",
       "      <th></th>\n",
       "      <th></th>\n",
       "      <th></th>\n",
       "      <th></th>\n",
       "      <th></th>\n",
       "    </tr>\n",
       "  </thead>\n",
       "  <tbody>\n",
       "    <tr>\n",
       "      <th>2018-04-09</th>\n",
       "      <td>Running</td>\n",
       "      <td>172</td>\n",
       "      <td>187</td>\n",
       "      <td>5.0</td>\n",
       "      <td>161</td>\n",
       "      <td>175</td>\n",
       "      <td>8:26</td>\n",
       "      <td>6:54</td>\n",
       "      <td>1.19</td>\n",
       "      <td>69.0</td>\n",
       "      <td>139.0</td>\n",
       "      <td>506.0</td>\n",
       "      <td>414.0</td>\n",
       "    </tr>\n",
       "    <tr>\n",
       "      <th>2018-04-11</th>\n",
       "      <td>Running</td>\n",
       "      <td>170</td>\n",
       "      <td>188</td>\n",
       "      <td>5.0</td>\n",
       "      <td>157</td>\n",
       "      <td>178</td>\n",
       "      <td>8:59</td>\n",
       "      <td>7:54</td>\n",
       "      <td>1.14</td>\n",
       "      <td>328.0</td>\n",
       "      <td>463.0</td>\n",
       "      <td>539.0</td>\n",
       "      <td>474.0</td>\n",
       "    </tr>\n",
       "    <tr>\n",
       "      <th>2018-04-12</th>\n",
       "      <td>Running</td>\n",
       "      <td>176</td>\n",
       "      <td>195</td>\n",
       "      <td>5.0</td>\n",
       "      <td>167</td>\n",
       "      <td>213</td>\n",
       "      <td>8:13</td>\n",
       "      <td>5:07</td>\n",
       "      <td>1.17</td>\n",
       "      <td>365.0</td>\n",
       "      <td>458.0</td>\n",
       "      <td>493.0</td>\n",
       "      <td>307.0</td>\n",
       "    </tr>\n",
       "  </tbody>\n",
       "</table>\n",
       "</div>"
      ],
      "text/plain": [
       "           Activity Type  Avg HR  Max HR  Aerobic TE  Avg Run Cadence  \\\n",
       "Date                                                                    \n",
       "2018-04-09       Running     172     187         5.0              161   \n",
       "2018-04-11       Running     170     188         5.0              157   \n",
       "2018-04-12       Running     176     195         5.0              167   \n",
       "\n",
       "            Max Run Cadence Avg Pace Best Pace  Avg Stride Length  \\\n",
       "Date                                                                \n",
       "2018-04-09              175     8:26      6:54               1.19   \n",
       "2018-04-11              178     8:59      7:54               1.14   \n",
       "2018-04-12              213     8:13      5:07               1.17   \n",
       "\n",
       "            Min Elevation  Max Elevation  Avg Pace_s  Best Pace_s  \n",
       "Date                                                               \n",
       "2018-04-09           69.0          139.0       506.0        414.0  \n",
       "2018-04-11          328.0          463.0       539.0        474.0  \n",
       "2018-04-12          365.0          458.0       493.0        307.0  "
      ]
     },
     "execution_count": 15,
     "metadata": {},
     "output_type": "execute_result"
    }
   ],
   "source": [
    "str_df.head(3)"
   ]
  },
  {
   "cell_type": "markdown",
   "id": "45c81d11-ec96-4604-a27e-411036f4c254",
   "metadata": {},
   "source": [
    "#### export both of these as separate .csv files for processing in the next notebook 2-processing.ipynb"
   ]
  },
  {
   "cell_type": "code",
   "execution_count": 16,
   "id": "624e23eb-f4ff-4bca-9e39-10a1903687f3",
   "metadata": {},
   "outputs": [],
   "source": [
    "numeric_df.to_csv('data/numeric_data.csv')\n",
    "str_df.to_csv('data/str_data.csv')"
   ]
  }
 ],
 "metadata": {
  "kernelspec": {
   "display_name": "Python 3 (ipykernel)",
   "language": "python",
   "name": "python3"
  },
  "language_info": {
   "codemirror_mode": {
    "name": "ipython",
    "version": 3
   },
   "file_extension": ".py",
   "mimetype": "text/x-python",
   "name": "python",
   "nbconvert_exporter": "python",
   "pygments_lexer": "ipython3",
   "version": "3.9.6"
  }
 },
 "nbformat": 4,
 "nbformat_minor": 5
}
