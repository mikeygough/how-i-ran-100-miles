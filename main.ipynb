{
 "cells": [
  {
   "cell_type": "code",
   "execution_count": 1,
   "id": "25ae2d5e-1ac0-4cdf-9589-0873ab0abe2d",
   "metadata": {},
   "outputs": [],
   "source": [
    "# imports\n",
    "from datetime import datetime\n",
    "import pandas as pd\n",
    "import numpy as np\n",
    "import matplotlib.pyplot as plt\n",
    "%matplotlib inline\n",
    "\n",
    "# display settings\n",
    "pd.set_option('display.max_rows', 1000)\n",
    "pd.set_option('display.max_columns', 100)\n",
    "pd.set_option('max_colwidth', 500)"
   ]
  },
  {
   "cell_type": "markdown",
   "id": "fb985e40-92ad-498b-bcb7-9da7b855181e",
   "metadata": {},
   "source": [
    "---"
   ]
  },
  {
   "cell_type": "markdown",
   "id": "6e15d3ea-8d58-4da8-ab63-e1d7d8ece131",
   "metadata": {},
   "source": [
    "#### loading"
   ]
  },
  {
   "cell_type": "code",
   "execution_count": 4,
   "id": "5f584d14-2040-4bfa-8728-f0cc866f33bd",
   "metadata": {},
   "outputs": [],
   "source": [
    "# read the data\n",
    "# index_col -> set index to 'Date'\n",
    "# thousands -> recognize '1,000' as an int64 instead of a string\n",
    "# na_values -> replace any '--' values with NA\n",
    "# usecols -> only use relevant columns\n",
    "\n",
    "df = pd.read_csv('data/data.csv', parse_dates=['Date'], infer_datetime_format=True,\n",
    "                index_col='Date', thousands=',', na_values='--',\n",
    "                usecols=['Date', 'Activity Type', 'Distance', 'Calories', 'Time',\n",
    "                            'Avg HR', 'Max HR', 'Aerobic TE', 'Avg Run Cadence', 'Max Run Cadence',\n",
    "                            'Avg Pace', 'Best Pace', 'Total Ascent', 'Total Descent',\n",
    "                            'Avg Stride Length', 'Best Lap Time', 'Number of Laps',\n",
    "                            'Moving Time', 'Elapsed Time', 'Min Elevation',\n",
    "                            'Max Elevation'])\n"
   ]
  },
  {
   "cell_type": "code",
   "execution_count": 5,
   "id": "6dbde683-45ab-4c5f-b6f1-3fec2aa31a24",
   "metadata": {},
   "outputs": [
    {
     "data": {
      "text/html": [
       "<div>\n",
       "<style scoped>\n",
       "    .dataframe tbody tr th:only-of-type {\n",
       "        vertical-align: middle;\n",
       "    }\n",
       "\n",
       "    .dataframe tbody tr th {\n",
       "        vertical-align: top;\n",
       "    }\n",
       "\n",
       "    .dataframe thead th {\n",
       "        text-align: right;\n",
       "    }\n",
       "</style>\n",
       "<table border=\"1\" class=\"dataframe\">\n",
       "  <thead>\n",
       "    <tr style=\"text-align: right;\">\n",
       "      <th></th>\n",
       "      <th>Activity Type</th>\n",
       "      <th>Distance</th>\n",
       "      <th>Calories</th>\n",
       "      <th>Time</th>\n",
       "      <th>Avg HR</th>\n",
       "      <th>Max HR</th>\n",
       "      <th>Aerobic TE</th>\n",
       "      <th>Avg Run Cadence</th>\n",
       "      <th>Max Run Cadence</th>\n",
       "      <th>Avg Pace</th>\n",
       "      <th>Best Pace</th>\n",
       "      <th>Total Ascent</th>\n",
       "      <th>Total Descent</th>\n",
       "      <th>Avg Stride Length</th>\n",
       "      <th>Best Lap Time</th>\n",
       "      <th>Number of Laps</th>\n",
       "      <th>Moving Time</th>\n",
       "      <th>Elapsed Time</th>\n",
       "      <th>Min Elevation</th>\n",
       "      <th>Max Elevation</th>\n",
       "    </tr>\n",
       "    <tr>\n",
       "      <th>Date</th>\n",
       "      <th></th>\n",
       "      <th></th>\n",
       "      <th></th>\n",
       "      <th></th>\n",
       "      <th></th>\n",
       "      <th></th>\n",
       "      <th></th>\n",
       "      <th></th>\n",
       "      <th></th>\n",
       "      <th></th>\n",
       "      <th></th>\n",
       "      <th></th>\n",
       "      <th></th>\n",
       "      <th></th>\n",
       "      <th></th>\n",
       "      <th></th>\n",
       "      <th></th>\n",
       "      <th></th>\n",
       "      <th></th>\n",
       "      <th></th>\n",
       "    </tr>\n",
       "  </thead>\n",
       "  <tbody>\n",
       "    <tr>\n",
       "      <th>2022-10-27 10:15:19</th>\n",
       "      <td>Running</td>\n",
       "      <td>6.01</td>\n",
       "      <td>596</td>\n",
       "      <td>00:49:46</td>\n",
       "      <td>164</td>\n",
       "      <td>185</td>\n",
       "      <td>4.2</td>\n",
       "      <td>167</td>\n",
       "      <td>178</td>\n",
       "      <td>8:17</td>\n",
       "      <td>7:34</td>\n",
       "      <td>7.0</td>\n",
       "      <td>10.0</td>\n",
       "      <td>1.17</td>\n",
       "      <td>00:03.61.1</td>\n",
       "      <td>7</td>\n",
       "      <td>00:49:40</td>\n",
       "      <td>00:52:59</td>\n",
       "      <td>594.0</td>\n",
       "      <td>604.0</td>\n",
       "    </tr>\n",
       "    <tr>\n",
       "      <th>2022-10-26 14:37:25</th>\n",
       "      <td>Running</td>\n",
       "      <td>4.01</td>\n",
       "      <td>362</td>\n",
       "      <td>00:34:26</td>\n",
       "      <td>150</td>\n",
       "      <td>161</td>\n",
       "      <td>3.1</td>\n",
       "      <td>165</td>\n",
       "      <td>175</td>\n",
       "      <td>8:34</td>\n",
       "      <td>7:02</td>\n",
       "      <td>3.0</td>\n",
       "      <td>7.0</td>\n",
       "      <td>1.13</td>\n",
       "      <td>00:06.44.8</td>\n",
       "      <td>5</td>\n",
       "      <td>00:34:23</td>\n",
       "      <td>00:36:17</td>\n",
       "      <td>594.0</td>\n",
       "      <td>603.0</td>\n",
       "    </tr>\n",
       "    <tr>\n",
       "      <th>2022-10-23 14:02:20</th>\n",
       "      <td>Running</td>\n",
       "      <td>6.38</td>\n",
       "      <td>650</td>\n",
       "      <td>00:54:40</td>\n",
       "      <td>167</td>\n",
       "      <td>176</td>\n",
       "      <td>4.8</td>\n",
       "      <td>165</td>\n",
       "      <td>174</td>\n",
       "      <td>8:34</td>\n",
       "      <td>7:44</td>\n",
       "      <td>7.0</td>\n",
       "      <td>3.0</td>\n",
       "      <td>1.14</td>\n",
       "      <td>03:03.34.5</td>\n",
       "      <td>7</td>\n",
       "      <td>00:54:37</td>\n",
       "      <td>00:55:53</td>\n",
       "      <td>594.0</td>\n",
       "      <td>604.0</td>\n",
       "    </tr>\n",
       "    <tr>\n",
       "      <th>2022-10-22 12:02:56</th>\n",
       "      <td>Running</td>\n",
       "      <td>6.01</td>\n",
       "      <td>603</td>\n",
       "      <td>00:52:27</td>\n",
       "      <td>163</td>\n",
       "      <td>170</td>\n",
       "      <td>4.6</td>\n",
       "      <td>165</td>\n",
       "      <td>172</td>\n",
       "      <td>8:44</td>\n",
       "      <td>8:03</td>\n",
       "      <td>3.0</td>\n",
       "      <td>10.0</td>\n",
       "      <td>1.12</td>\n",
       "      <td>00:02.82.5</td>\n",
       "      <td>7</td>\n",
       "      <td>00:52:21</td>\n",
       "      <td>00:54:23</td>\n",
       "      <td>594.0</td>\n",
       "      <td>604.0</td>\n",
       "    </tr>\n",
       "    <tr>\n",
       "      <th>2022-10-21 13:30:24</th>\n",
       "      <td>Running</td>\n",
       "      <td>6.02</td>\n",
       "      <td>630</td>\n",
       "      <td>00:51:39</td>\n",
       "      <td>168</td>\n",
       "      <td>185</td>\n",
       "      <td>5.0</td>\n",
       "      <td>165</td>\n",
       "      <td>243</td>\n",
       "      <td>8:35</td>\n",
       "      <td>7:32</td>\n",
       "      <td>10.0</td>\n",
       "      <td>10.0</td>\n",
       "      <td>1.14</td>\n",
       "      <td>00:07.63</td>\n",
       "      <td>7</td>\n",
       "      <td>00:51:37</td>\n",
       "      <td>00:54:12</td>\n",
       "      <td>594.0</td>\n",
       "      <td>604.0</td>\n",
       "    </tr>\n",
       "  </tbody>\n",
       "</table>\n",
       "</div>"
      ],
      "text/plain": [
       "                    Activity Type  Distance  Calories      Time  Avg HR  \\\n",
       "Date                                                                      \n",
       "2022-10-27 10:15:19       Running      6.01       596  00:49:46     164   \n",
       "2022-10-26 14:37:25       Running      4.01       362  00:34:26     150   \n",
       "2022-10-23 14:02:20       Running      6.38       650  00:54:40     167   \n",
       "2022-10-22 12:02:56       Running      6.01       603  00:52:27     163   \n",
       "2022-10-21 13:30:24       Running      6.02       630  00:51:39     168   \n",
       "\n",
       "                     Max HR  Aerobic TE  Avg Run Cadence  Max Run Cadence  \\\n",
       "Date                                                                        \n",
       "2022-10-27 10:15:19     185         4.2              167              178   \n",
       "2022-10-26 14:37:25     161         3.1              165              175   \n",
       "2022-10-23 14:02:20     176         4.8              165              174   \n",
       "2022-10-22 12:02:56     170         4.6              165              172   \n",
       "2022-10-21 13:30:24     185         5.0              165              243   \n",
       "\n",
       "                    Avg Pace Best Pace  Total Ascent  Total Descent  \\\n",
       "Date                                                                  \n",
       "2022-10-27 10:15:19     8:17      7:34           7.0           10.0   \n",
       "2022-10-26 14:37:25     8:34      7:02           3.0            7.0   \n",
       "2022-10-23 14:02:20     8:34      7:44           7.0            3.0   \n",
       "2022-10-22 12:02:56     8:44      8:03           3.0           10.0   \n",
       "2022-10-21 13:30:24     8:35      7:32          10.0           10.0   \n",
       "\n",
       "                     Avg Stride Length Best Lap Time  Number of Laps  \\\n",
       "Date                                                                   \n",
       "2022-10-27 10:15:19               1.17    00:03.61.1               7   \n",
       "2022-10-26 14:37:25               1.13    00:06.44.8               5   \n",
       "2022-10-23 14:02:20               1.14    03:03.34.5               7   \n",
       "2022-10-22 12:02:56               1.12    00:02.82.5               7   \n",
       "2022-10-21 13:30:24               1.14      00:07.63               7   \n",
       "\n",
       "                    Moving Time Elapsed Time  Min Elevation  Max Elevation  \n",
       "Date                                                                        \n",
       "2022-10-27 10:15:19    00:49:40     00:52:59          594.0          604.0  \n",
       "2022-10-26 14:37:25    00:34:23     00:36:17          594.0          603.0  \n",
       "2022-10-23 14:02:20    00:54:37     00:55:53          594.0          604.0  \n",
       "2022-10-22 12:02:56    00:52:21     00:54:23          594.0          604.0  \n",
       "2022-10-21 13:30:24    00:51:37     00:54:12          594.0          604.0  "
      ]
     },
     "execution_count": 5,
     "metadata": {},
     "output_type": "execute_result"
    }
   ],
   "source": [
    "df.head()"
   ]
  },
  {
   "cell_type": "markdown",
   "id": "f6ca5175-e2d3-4017-9ee3-d3d69f1a2a5b",
   "metadata": {},
   "source": [
    "---"
   ]
  },
  {
   "cell_type": "markdown",
   "id": "04af694c-8466-4d8e-8667-6dcfee488950",
   "metadata": {},
   "source": [
    "#### exploring"
   ]
  },
  {
   "cell_type": "code",
   "execution_count": 3,
   "id": "d614135c-a40d-4b11-ab14-8ca0a76572d3",
   "metadata": {},
   "outputs": [
    {
     "ename": "NameError",
     "evalue": "name 'df' is not defined",
     "output_type": "error",
     "traceback": [
      "\u001b[0;31m---------------------------------------------------------------------------\u001b[0m",
      "\u001b[0;31mNameError\u001b[0m                                 Traceback (most recent call last)",
      "Cell \u001b[0;32mIn [3], line 2\u001b[0m\n\u001b[1;32m      1\u001b[0m \u001b[38;5;66;03m# take a peek!\u001b[39;00m\n\u001b[0;32m----> 2\u001b[0m \u001b[43mdf\u001b[49m\u001b[38;5;241m.\u001b[39mhead(\u001b[38;5;241m3\u001b[39m)\n",
      "\u001b[0;31mNameError\u001b[0m: name 'df' is not defined"
     ]
    }
   ],
   "source": [
    "# take a peek!\n",
    "df.head(3)"
   ]
  },
  {
   "cell_type": "markdown",
   "id": "50639b5a-287c-4e8c-b77a-189ca65691c7",
   "metadata": {},
   "source": [
    "my watch allowed for multiple activity types"
   ]
  },
  {
   "cell_type": "code",
   "execution_count": 76,
   "id": "d2900916-6a3e-499a-8764-71b481a8c430",
   "metadata": {},
   "outputs": [
    {
     "data": {
      "text/plain": [
       "array(['Running', 'Other', 'Cycling', 'Treadmill Running'], dtype=object)"
      ]
     },
     "execution_count": 76,
     "metadata": {},
     "output_type": "execute_result"
    }
   ],
   "source": [
    "df['Activity Type'].unique()"
   ]
  },
  {
   "cell_type": "code",
   "execution_count": 77,
   "id": "d8f88e95-8070-48fd-b2ce-75fff848cc26",
   "metadata": {},
   "outputs": [
    {
     "data": {
      "text/plain": [
       "789"
      ]
     },
     "execution_count": 77,
     "metadata": {},
     "output_type": "execute_result"
    }
   ],
   "source": [
    "df.shape[0]"
   ]
  },
  {
   "cell_type": "markdown",
   "id": "c84253b8-6ea1-40e6-b608-15d9bbf837ce",
   "metadata": {},
   "source": [
    "since first getting this watch i completed 789 _activities_"
   ]
  },
  {
   "cell_type": "code",
   "execution_count": 78,
   "id": "18f143d3-0099-42f5-8c83-b4bc278027c2",
   "metadata": {},
   "outputs": [
    {
     "data": {
      "text/plain": [
       "26"
      ]
     },
     "execution_count": 78,
     "metadata": {},
     "output_type": "execute_result"
    }
   ],
   "source": [
    "df[(df['Activity Type'] == 'Cycling') | (df['Activity Type'] == 'Other')].shape[0]"
   ]
  },
  {
   "cell_type": "markdown",
   "id": "6aaf259d-6f6a-4cf3-b293-51e4cd6d7fa0",
   "metadata": {},
   "source": [
    "26 were classified as _cycling_ or _other_. i'd like to discard those values"
   ]
  },
  {
   "cell_type": "code",
   "execution_count": 79,
   "id": "f5da41d3-005c-4166-b20b-be9144647eb2",
   "metadata": {},
   "outputs": [],
   "source": [
    "dropIndex = df[(df['Activity Type'] == 'Cycling') | (df['Activity Type'] == 'Other')].index\n",
    "df.drop(dropIndex, inplace=True)"
   ]
  },
  {
   "cell_type": "markdown",
   "id": "c7a869bb-6cbc-46c0-8a53-28e881742560",
   "metadata": {},
   "source": [
    "i also only want the data leading up to my 100 miler, which occurred february 5th, 2022. my first recorded run with this watch was april 9th, 2018. so for simplicity, i'll select the data from april 2018 to march 2022.\n",
    "\n",
    "_it took almost four years of training for me to go from someone who __doesn't__ run to completing a 100 mile marathon... big things take time._"
   ]
  },
  {
   "cell_type": "code",
   "execution_count": 80,
   "id": "63d5df20-10a6-4030-9e7b-21f1b176db9e",
   "metadata": {},
   "outputs": [],
   "source": [
    "df.sort_values('Date', inplace=True)\n",
    "df = df['2018-04-01':'2022-03-01'].copy(deep=True)"
   ]
  },
  {
   "cell_type": "markdown",
   "id": "0cbef25e-0d54-41f6-9662-ff50aa78da4f",
   "metadata": {},
   "source": [
    "---"
   ]
  },
  {
   "cell_type": "markdown",
   "id": "7980c3db-0293-4e5b-80cb-9824f312be75",
   "metadata": {},
   "source": [
    "#### nerding"
   ]
  },
  {
   "cell_type": "code",
   "execution_count": 95,
   "id": "7b060133-4a78-4bbc-b6d0-0f704bd4172d",
   "metadata": {},
   "outputs": [
    {
     "data": {
      "text/html": [
       "<div>\n",
       "<style scoped>\n",
       "    .dataframe tbody tr th:only-of-type {\n",
       "        vertical-align: middle;\n",
       "    }\n",
       "\n",
       "    .dataframe tbody tr th {\n",
       "        vertical-align: top;\n",
       "    }\n",
       "\n",
       "    .dataframe thead th {\n",
       "        text-align: right;\n",
       "    }\n",
       "</style>\n",
       "<table border=\"1\" class=\"dataframe\">\n",
       "  <thead>\n",
       "    <tr style=\"text-align: right;\">\n",
       "      <th></th>\n",
       "      <th>Activity Type</th>\n",
       "      <th>Distance</th>\n",
       "      <th>Calories</th>\n",
       "      <th>Time</th>\n",
       "      <th>Avg HR</th>\n",
       "      <th>Max HR</th>\n",
       "      <th>Aerobic TE</th>\n",
       "      <th>Avg Run Cadence</th>\n",
       "      <th>Max Run Cadence</th>\n",
       "      <th>Avg Pace</th>\n",
       "      <th>Best Pace</th>\n",
       "      <th>Total Ascent</th>\n",
       "      <th>Total Descent</th>\n",
       "      <th>Avg Stride Length</th>\n",
       "      <th>Best Lap Time</th>\n",
       "      <th>Number of Laps</th>\n",
       "      <th>Moving Time</th>\n",
       "      <th>Elapsed Time</th>\n",
       "      <th>Min Elevation</th>\n",
       "      <th>Max Elevation</th>\n",
       "    </tr>\n",
       "    <tr>\n",
       "      <th>Date</th>\n",
       "      <th></th>\n",
       "      <th></th>\n",
       "      <th></th>\n",
       "      <th></th>\n",
       "      <th></th>\n",
       "      <th></th>\n",
       "      <th></th>\n",
       "      <th></th>\n",
       "      <th></th>\n",
       "      <th></th>\n",
       "      <th></th>\n",
       "      <th></th>\n",
       "      <th></th>\n",
       "      <th></th>\n",
       "      <th></th>\n",
       "      <th></th>\n",
       "      <th></th>\n",
       "      <th></th>\n",
       "      <th></th>\n",
       "      <th></th>\n",
       "    </tr>\n",
       "  </thead>\n",
       "  <tbody>\n",
       "    <tr>\n",
       "      <th>2018-04-09 15:08:48</th>\n",
       "      <td>Running</td>\n",
       "      <td>8.04</td>\n",
       "      <td>1088</td>\n",
       "      <td>01:07:47</td>\n",
       "      <td>172</td>\n",
       "      <td>187</td>\n",
       "      <td>5.0</td>\n",
       "      <td>161</td>\n",
       "      <td>175</td>\n",
       "      <td>8:26</td>\n",
       "      <td>6:54</td>\n",
       "      <td>203.0</td>\n",
       "      <td>205.0</td>\n",
       "      <td>1.19</td>\n",
       "      <td>00:00.00</td>\n",
       "      <td>9</td>\n",
       "      <td>01:07:48</td>\n",
       "      <td>01:08:00</td>\n",
       "      <td>69.0</td>\n",
       "      <td>139.0</td>\n",
       "    </tr>\n",
       "    <tr>\n",
       "      <th>2018-04-11 15:12:50</th>\n",
       "      <td>Running</td>\n",
       "      <td>5.06</td>\n",
       "      <td>640</td>\n",
       "      <td>00:45:25</td>\n",
       "      <td>170</td>\n",
       "      <td>188</td>\n",
       "      <td>5.0</td>\n",
       "      <td>157</td>\n",
       "      <td>178</td>\n",
       "      <td>8:59</td>\n",
       "      <td>7:54</td>\n",
       "      <td>373.0</td>\n",
       "      <td>381.0</td>\n",
       "      <td>1.14</td>\n",
       "      <td>00:00.00</td>\n",
       "      <td>6</td>\n",
       "      <td>00:45:25</td>\n",
       "      <td>00:46:20</td>\n",
       "      <td>328.0</td>\n",
       "      <td>463.0</td>\n",
       "    </tr>\n",
       "    <tr>\n",
       "      <th>2018-04-12 14:07:03</th>\n",
       "      <td>Running</td>\n",
       "      <td>5.98</td>\n",
       "      <td>704</td>\n",
       "      <td>00:49:09</td>\n",
       "      <td>176</td>\n",
       "      <td>195</td>\n",
       "      <td>5.0</td>\n",
       "      <td>167</td>\n",
       "      <td>213</td>\n",
       "      <td>8:13</td>\n",
       "      <td>5:07</td>\n",
       "      <td>567.0</td>\n",
       "      <td>557.0</td>\n",
       "      <td>1.17</td>\n",
       "      <td>00:00.00</td>\n",
       "      <td>18</td>\n",
       "      <td>00:48:29</td>\n",
       "      <td>00:56:09</td>\n",
       "      <td>365.0</td>\n",
       "      <td>458.0</td>\n",
       "    </tr>\n",
       "  </tbody>\n",
       "</table>\n",
       "</div>"
      ],
      "text/plain": [
       "                    Activity Type  Distance  Calories      Time  Avg HR  \\\n",
       "Date                                                                      \n",
       "2018-04-09 15:08:48       Running      8.04      1088  01:07:47     172   \n",
       "2018-04-11 15:12:50       Running      5.06       640  00:45:25     170   \n",
       "2018-04-12 14:07:03       Running      5.98       704  00:49:09     176   \n",
       "\n",
       "                     Max HR  Aerobic TE  Avg Run Cadence  Max Run Cadence  \\\n",
       "Date                                                                        \n",
       "2018-04-09 15:08:48     187         5.0              161              175   \n",
       "2018-04-11 15:12:50     188         5.0              157              178   \n",
       "2018-04-12 14:07:03     195         5.0              167              213   \n",
       "\n",
       "                    Avg Pace Best Pace  Total Ascent  Total Descent  \\\n",
       "Date                                                                  \n",
       "2018-04-09 15:08:48     8:26      6:54         203.0          205.0   \n",
       "2018-04-11 15:12:50     8:59      7:54         373.0          381.0   \n",
       "2018-04-12 14:07:03     8:13      5:07         567.0          557.0   \n",
       "\n",
       "                     Avg Stride Length Best Lap Time  Number of Laps  \\\n",
       "Date                                                                   \n",
       "2018-04-09 15:08:48               1.19      00:00.00               9   \n",
       "2018-04-11 15:12:50               1.14      00:00.00               6   \n",
       "2018-04-12 14:07:03               1.17      00:00.00              18   \n",
       "\n",
       "                    Moving Time Elapsed Time  Min Elevation  Max Elevation  \n",
       "Date                                                                        \n",
       "2018-04-09 15:08:48    01:07:48     01:08:00           69.0          139.0  \n",
       "2018-04-11 15:12:50    00:45:25     00:46:20          328.0          463.0  \n",
       "2018-04-12 14:07:03    00:48:29     00:56:09          365.0          458.0  "
      ]
     },
     "execution_count": 95,
     "metadata": {},
     "output_type": "execute_result"
    }
   ],
   "source": [
    "df.head(3)"
   ]
  },
  {
   "cell_type": "code",
   "execution_count": 91,
   "id": "a0eb1269-cf46-4530-83be-6c0cce51db0b",
   "metadata": {},
   "outputs": [
    {
     "name": "stdout",
     "output_type": "stream",
     "text": [
      "How long did it take to train for your first 100 miler? 1397 days\n"
     ]
    }
   ],
   "source": [
    "print(f\"How long did it take to train for your first 100 miler? {(df.index.max() - df.index.min()).days} days.\")"
   ]
  },
  {
   "cell_type": "code",
   "execution_count": 93,
   "id": "a52b9243-4458-405a-ae8d-382fa5eac7fd",
   "metadata": {},
   "outputs": [
    {
     "name": "stdout",
     "output_type": "stream",
     "text": [
      "How many miles did you run to train for that? 5617.14 miles\n"
     ]
    }
   ],
   "source": [
    "print(f\"How many miles did you run to train for that? {df['Distance'].sum().round(2)} miles\")"
   ]
  },
  {
   "cell_type": "markdown",
   "id": "1aa268bf-ef74-41cf-920b-a197c9f878bc",
   "metadata": {},
   "source": [
    "---"
   ]
  },
  {
   "cell_type": "markdown",
   "id": "b3b8eb74-26ba-4a3f-8728-49553046a797",
   "metadata": {},
   "source": [
    "#### Developing..."
   ]
  },
  {
   "cell_type": "markdown",
   "id": "5576867b-ee7f-48f5-b6a9-33a2f1d8c8fe",
   "metadata": {},
   "source": [
    "notes:\n",
    "\n",
    "* Date also has the time of day... do I usually run in the morning or evening?\n",
    "\n",
    "* Avg Pace, Best Pace and Time are str with values that make them difficult to directly convert to seconds or a time delta format. Interestingly Time can be sorted, but can't be summed. An example filter such as the following doesn't work because of certain values...\n",
    "\n",
    "* I currently only have rows on days that I ran. For plotting purposes I'd also like to see days I didn't run for identifying rest days or bad streaks where maybe I was sick.\n",
    "\n",
    "* My first run was April 9th 2018 and my 100 Miler was February 5th 2022. But I wasn't training for the 100 miler on April 9th, I was just training for the Providence half marathon. I can add colored sections to a chart to denote what race I was training for... Providence Half, Kennebunkport Full, Milwaukee Full, Zion 100K, Bandera 100K, Chicago 50M, Rocky Raccoon 100M. It's important to recognize this for calculating an accuracy score as well.\n",
    "\n",
    "\n",
    "Avg Pace                  1.1\n",
    "Best Pace                 3.3\n",
    "\n",
    "df['Avg Pace t'] = '00:' + df['Avg Pace']\n",
    "df['Avg Pace t'] = pd.to_timedelta(df['Avg Pace t'])\n",
    "\n",
    "Additional Time Anomolies\n",
    "\n",
    "2020-08-09 15:03:25    00:07:15.4\n",
    "2020-05-31 17:36:04    00:06:40.1\n",
    "2020-05-30 11:28:19    00:06:37.4\n",
    "2020-04-26 08:23:53    00:07:36.1\n",
    "2020-04-26 07:44:59    00:08:40.3\n",
    "2020-04-24 06:33:32    00:08:32.1\n",
    "2020-04-24 06:03:26    00:08:06.9\n",
    "2019-02-25 19:31:49    00:09:29.9\n",
    "2018-08-25 19:30:52    00:07:17.2\n",
    "\n",
    "Removed several columns:\n",
    "* Favorite\n",
    "* Title\n",
    "* Avg Vertical Ratio\n",
    "* Avg Vertical Oscillation\n",
    "* Avg Ground Contact Time\n",
    "* Avg Run Cadence.1\n",
    "* Max Run Cadence.1\n",
    "* Training Stress Score®\n",
    "* Avg Power\n",
    "* Max Power\n",
    "* Grit\n",
    "* Flow\n",
    "* Avg. Swolf\n",
    "* Avg Stroke Rate\n",
    "* Total Reps\n",
    "* Dive Time\n",
    "* Min Temp\n",
    "* Surface Interval\n",
    "* Decompression\n",
    "* Max Temp\n",
    "* Avg Pace t"
   ]
  }
 ],
 "metadata": {
  "kernelspec": {
   "display_name": "Python 3 (ipykernel)",
   "language": "python",
   "name": "python3"
  },
  "language_info": {
   "codemirror_mode": {
    "name": "ipython",
    "version": 3
   },
   "file_extension": ".py",
   "mimetype": "text/x-python",
   "name": "python",
   "nbconvert_exporter": "python",
   "pygments_lexer": "ipython3",
   "version": "3.9.6"
  }
 },
 "nbformat": 4,
 "nbformat_minor": 5
}
