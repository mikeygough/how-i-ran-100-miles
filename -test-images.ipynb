{
 "cells": [
  {
   "cell_type": "markdown",
   "id": "10daafa8-cd8e-4a1e-8a58-029259c712df",
   "metadata": {},
   "source": [
    "<div>\n",
    "<img src=\"data/photos/1-providence-half-marathon.jpg\" width=\"150\"/>\n",
    "</div>"
   ]
  },
  {
   "cell_type": "markdown",
   "id": "83b0e510-ac83-4e68-9ea7-4e753dc91d5b",
   "metadata": {},
   "source": [
    "<div>\n",
    "<img src=\"data/photos/2-kennebunk-marathon.jpg\" width=\"150\"/>\n",
    "</div>"
   ]
  },
  {
   "cell_type": "markdown",
   "id": "a6453ece-f2e0-477c-915e-5d5fb2071f98",
   "metadata": {},
   "source": [
    "<div>\n",
    "<img src=\"data/photos/3-milwaukee-marathon.jpg\" width=\"150\"/>\n",
    "</div>"
   ]
  },
  {
   "cell_type": "markdown",
   "id": "f4520bef-36ce-4fda-90e1-52d157331783",
   "metadata": {},
   "source": [
    "<div>\n",
    "<img src=\"data/photos/4-bandera-100k.jpg\" width=\"150\"/>\n",
    "</div>"
   ]
  },
  {
   "cell_type": "markdown",
   "id": "b02fa72f-ed4d-489f-a9ac-e51cf13d2784",
   "metadata": {},
   "source": [
    "<div>\n",
    "<img src=\"data/photos/5-zion-100k.jpeg\" width=\"150\"/>\n",
    "</div>"
   ]
  },
  {
   "cell_type": "markdown",
   "id": "b1449ab4-741d-45b1-9e6d-a94364cc87b0",
   "metadata": {},
   "source": [
    "<div>\n",
    "<img src=\"data/photos/6-chicago-50m.jpeg\" width=\"150\"/>\n",
    "</div>"
   ]
  },
  {
   "cell_type": "markdown",
   "id": "9adb25f7-520f-4af6-bc58-b7b074f57865",
   "metadata": {},
   "source": [
    "<div>\n",
    "<img src=\"data/photos/7-rocky-100m.jpeg\" width=\"150\"/>\n",
    "</div>"
   ]
  }
 ],
 "metadata": {
  "kernelspec": {
   "display_name": "Python 3 (ipykernel)",
   "language": "python",
   "name": "python3"
  },
  "language_info": {
   "codemirror_mode": {
    "name": "ipython",
    "version": 3
   },
   "file_extension": ".py",
   "mimetype": "text/x-python",
   "name": "python",
   "nbconvert_exporter": "python",
   "pygments_lexer": "ipython3",
   "version": "3.9.6"
  }
 },
 "nbformat": 4,
 "nbformat_minor": 5
}
